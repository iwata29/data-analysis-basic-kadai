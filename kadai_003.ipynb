{
  "nbformat": 4,
  "nbformat_minor": 0,
  "metadata": {
    "colab": {
      "provenance": []
    },
    "kernelspec": {
      "name": "python3",
      "display_name": "Python 3"
    },
    "language_info": {
      "name": "python"
    }
  },
  "cells": [
    {
      "cell_type": "code",
      "execution_count": 30,
      "metadata": {
        "id": "rKuOts5xfWRq"
      },
      "outputs": [],
      "source": [
        "import numpy as np"
      ]
    },
    {
      "cell_type": "code",
      "source": [
        "a = np.array([[0,1,2], [3,4,5]])\n",
        "b = np.array([[0,1,2,3], [4,5,6,7]])"
      ],
      "metadata": {
        "id": "oCAw4gewft7D"
      },
      "execution_count": 31,
      "outputs": []
    },
    {
      "source": [
        "c = np.dot(a.T, b)"
      ],
      "cell_type": "code",
      "metadata": {
        "id": "hEOz3GeqjtMr"
      },
      "execution_count": 32,
      "outputs": []
    },
    {
      "cell_type": "code",
      "source": [
        "print(c)"
      ],
      "metadata": {
        "colab": {
          "base_uri": "https://localhost:8080/"
        },
        "id": "slS6I10QnqGR",
        "outputId": "0ebb6b28-e72c-493a-a02c-d16d31c8325d"
      },
      "execution_count": 33,
      "outputs": [
        {
          "output_type": "stream",
          "name": "stdout",
          "text": [
            "[[12 15 18 21]\n",
            " [16 21 26 31]\n",
            " [20 27 34 41]]\n"
          ]
        }
      ]
    },
    {
      "cell_type": "code",
      "source": [
        "c.max()"
      ],
      "metadata": {
        "colab": {
          "base_uri": "https://localhost:8080/"
        },
        "id": "50AB6R0eh4Um",
        "outputId": "efed2ca9-8849-43f8-c0bf-6a5a0a8fd290"
      },
      "execution_count": 34,
      "outputs": [
        {
          "output_type": "execute_result",
          "data": {
            "text/plain": [
              "41"
            ]
          },
          "metadata": {},
          "execution_count": 34
        }
      ]
    }
  ]
}